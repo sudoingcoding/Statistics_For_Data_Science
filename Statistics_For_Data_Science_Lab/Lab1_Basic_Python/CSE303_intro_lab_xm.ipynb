{
  "nbformat": 4,
  "nbformat_minor": 0,
  "metadata": {
    "colab": {
      "provenance": []
    },
    "kernelspec": {
      "name": "python3",
      "display_name": "Python 3"
    },
    "language_info": {
      "name": "python"
    }
  },
  "cells": [
    {
      "cell_type": "markdown",
      "source": [
        "1"
      ],
      "metadata": {
        "id": "jUXSIew5Q-Mx"
      }
    },
    {
      "cell_type": "code",
      "execution_count": null,
      "metadata": {
        "colab": {
          "base_uri": "https://localhost:8080/"
        },
        "id": "jJHqH_o0OC_1",
        "outputId": "e13f136d-db1f-45d0-93dc-fc0d9c9b7cd0"
      },
      "outputs": [
        {
          "output_type": "stream",
          "name": "stdout",
          "text": [
            "a:1\n",
            "b:2\n",
            "c:3\n",
            "6\n"
          ]
        }
      ],
      "source": [
        "a = input(\"a:\")\n",
        "b = input(\"b:\")\n",
        "c = input(\"c:\")\n",
        "print(int(a)+int(b)+int(c))"
      ]
    },
    {
      "cell_type": "markdown",
      "source": [
        "2"
      ],
      "metadata": {
        "id": "py7T93DaRBKw"
      }
    },
    {
      "cell_type": "code",
      "source": [
        "age =int(input(\"Enter your age:\"))\n",
        "if age>18:\n",
        "  print(\"You can vote\")\n",
        "else:\n",
        "  print(\"You cannot vote\")"
      ],
      "metadata": {
        "colab": {
          "base_uri": "https://localhost:8080/"
        },
        "id": "kCAvctwBRCCI",
        "outputId": "1f449dc9-c32b-4aa1-a160-151aea20d047"
      },
      "execution_count": null,
      "outputs": [
        {
          "output_type": "stream",
          "name": "stdout",
          "text": [
            "Enter your age:19\n",
            "You can vote\n"
          ]
        }
      ]
    },
    {
      "cell_type": "markdown",
      "source": [
        "3"
      ],
      "metadata": {
        "id": "gfLUewZDRCZg"
      }
    },
    {
      "cell_type": "code",
      "source": [
        "k=1\n",
        "a=3125\n",
        "sum = 0\n",
        "while(k<6):\n",
        "  if(k<5):\n",
        "    print(int(a),end=' + ')\n",
        "  else:\n",
        "    print(int(a),' = ',int(sum))\n",
        "  sum+=a\n",
        "  a/=5\n",
        "  k=k+1"
      ],
      "metadata": {
        "colab": {
          "base_uri": "https://localhost:8080/"
        },
        "id": "itYSRpBuRCtn",
        "outputId": "fc0fe2f4-a807-4049-921a-f8bdc25f51d7"
      },
      "execution_count": null,
      "outputs": [
        {
          "output_type": "stream",
          "name": "stdout",
          "text": [
            "3125 + 625 + 125 + 25 + 5  =  3900\n"
          ]
        }
      ]
    },
    {
      "cell_type": "markdown",
      "source": [
        "4"
      ],
      "metadata": {
        "id": "dONRvEwARDBp"
      }
    },
    {
      "cell_type": "code",
      "source": [
        "for i in range(0,7,1):\n",
        "  for j in range(0,i,1):\n",
        "    print('*',end=\" \")\n",
        "  print(\"\")"
      ],
      "metadata": {
        "colab": {
          "base_uri": "https://localhost:8080/"
        },
        "id": "L_E-UURjRDU4",
        "outputId": "d51ffb73-6947-4dbf-8584-d3d8d9c5c4a0"
      },
      "execution_count": null,
      "outputs": [
        {
          "output_type": "stream",
          "name": "stdout",
          "text": [
            "\n",
            "* \n",
            "* * \n",
            "* * * \n",
            "* * * * \n",
            "* * * * * \n",
            "* * * * * * \n"
          ]
        }
      ]
    },
    {
      "cell_type": "markdown",
      "source": [
        "5"
      ],
      "metadata": {
        "id": "Dt3pvwiMRMEj"
      }
    },
    {
      "cell_type": "code",
      "source": [
        "cities = [\"dhaka\",\"rangpur\",\"barishal\",\"khustia\",\"sylhet\"]\n",
        "def calcA(x):\n",
        "  a=0\n",
        "  for i in x:\n",
        "    if i==\"a\":\n",
        "      a+=1\n",
        "  if a==2:\n",
        "    return True\n",
        "\n",
        "newList = [x for x in cities if len(x)>5 and calcA(x)]\n",
        "print(newList)\n"
      ],
      "metadata": {
        "colab": {
          "base_uri": "https://localhost:8080/"
        },
        "id": "X15epHCRRKmw",
        "outputId": "5b1f5e4f-9d2f-475a-c9b3-8fe0e1f6a371"
      },
      "execution_count": null,
      "outputs": [
        {
          "output_type": "stream",
          "name": "stdout",
          "text": [
            "['barishal']\n"
          ]
        }
      ]
    }
  ]
}