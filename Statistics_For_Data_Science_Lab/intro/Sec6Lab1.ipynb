{
  "nbformat": 4,
  "nbformat_minor": 0,
  "metadata": {
    "colab": {
      "provenance": []
    },
    "kernelspec": {
      "name": "python3",
      "display_name": "Python 3"
    },
    "language_info": {
      "name": "python"
    }
  },
  "cells": [
    {
      "cell_type": "markdown",
      "source": [
        "This is section 6.This first lab.\n",
        "#This is section 6.This first lab."
      ],
      "metadata": {
        "id": "3QgwpYM1MIN-"
      }
    },
    {
      "cell_type": "code",
      "execution_count": null,
      "metadata": {
        "colab": {
          "base_uri": "https://localhost:8080/"
        },
        "id": "XqJ3Vph0Kf8z",
        "outputId": "ab67f95b-607c-4f0b-a88a-10e519d8e1dc"
      },
      "outputs": [
        {
          "output_type": "stream",
          "name": "stdout",
          "text": [
            "Hello World...Suddip!!"
          ]
        }
      ],
      "source": [
        "print(\"Hello World\",\"Suddip\",sep=\"...\",end=\"!!\")"
      ]
    },
    {
      "cell_type": "code",
      "source": [
        "name = \"Suddip Paul Arnab\"\n",
        "age = 22\n",
        "cgpa = 3.5\n",
        "graduated = False\n",
        "print(name,end=\" \")\n",
        "print(age,end=\" \")\n",
        "print(cgpa,end=\" \")\n",
        "print(graduated,end=\" \")"
      ],
      "metadata": {
        "colab": {
          "base_uri": "https://localhost:8080/"
        },
        "id": "SQoiJl8hNBCm",
        "outputId": "bb602ea9-f4ba-4e2b-d27d-f6ad6cf5fb78"
      },
      "execution_count": null,
      "outputs": [
        {
          "output_type": "stream",
          "name": "stdout",
          "text": [
            "Suddip Paul Arnab 22 3.5 False "
          ]
        }
      ]
    },
    {
      "cell_type": "code",
      "source": [
        "name = \"Suddip Paul Arnab\"\n",
        "print(\"My name is:\",name)\n",
        "print(f\"My name is: {name}\")"
      ],
      "metadata": {
        "colab": {
          "base_uri": "https://localhost:8080/"
        },
        "id": "pNo7rwWDOC4O",
        "outputId": "463207de-09bc-4561-9b8e-d75d9291c0f8"
      },
      "execution_count": null,
      "outputs": [
        {
          "output_type": "stream",
          "name": "stdout",
          "text": [
            "My name is: Suddip Paul Arnab\n",
            "My name is: Suddip Paul Arnab\n"
          ]
        }
      ]
    },
    {
      "cell_type": "code",
      "source": [
        "name = \"Suddip Paul Arnab\"\n",
        "age = 22\n",
        "cgpa = 3.5\n",
        "graduated = False\n",
        "print(f\"My name is: {name}. My age is: {age}, My CGPA is: {cgpa}.\")"
      ],
      "metadata": {
        "colab": {
          "base_uri": "https://localhost:8080/"
        },
        "id": "37zRiVOcPpLQ",
        "outputId": "da5c6b34-6d07-4a87-fd6e-48cb4a25f6bf"
      },
      "execution_count": null,
      "outputs": [
        {
          "output_type": "stream",
          "name": "stdout",
          "text": [
            "My name is: Suddip Paul Arnab. My age is: 22, My CGPA is: 3.5.\n"
          ]
        }
      ]
    }
  ]
}