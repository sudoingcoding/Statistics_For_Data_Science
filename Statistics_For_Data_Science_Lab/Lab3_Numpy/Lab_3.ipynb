{
  "nbformat": 4,
  "nbformat_minor": 0,
  "metadata": {
    "colab": {
      "provenance": []
    },
    "kernelspec": {
      "name": "python3",
      "display_name": "Python 3"
    },
    "language_info": {
      "name": "python"
    }
  },
  "cells": [
    {
      "cell_type": "markdown",
      "source": [
        "1. Create a 1D NumPy array of integers from 0 to 9."
      ],
      "metadata": {
        "id": "YN_IlHWl1WGa"
      }
    },
    {
      "cell_type": "code",
      "execution_count": 1,
      "metadata": {
        "colab": {
          "base_uri": "https://localhost:8080/"
        },
        "id": "URlTf_LS1SKp",
        "outputId": "ec51ed4e-9e4c-4f5b-dde8-09e73f043bf9"
      },
      "outputs": [
        {
          "output_type": "stream",
          "name": "stdout",
          "text": [
            "[0 1 2 3 4 5 6 7 8 9]\n"
          ]
        }
      ],
      "source": [
        "import numpy as np\n",
        "arr =np.array([0,1,2,3,4,5,6,7,8,9])\n",
        "print(arr)"
      ]
    },
    {
      "cell_type": "markdown",
      "source": [
        "2. Create a 2D NumPy array with shape (3, 3) filled with zeros."
      ],
      "metadata": {
        "id": "D7UAKDHk1ZTR"
      }
    },
    {
      "cell_type": "code",
      "source": [
        "arr =np.array([[0,0,0],[0,0,0],[0,0,0]])\n",
        "print(arr)\n",
        "print(arr.shape)"
      ],
      "metadata": {
        "colab": {
          "base_uri": "https://localhost:8080/"
        },
        "id": "UMWto3X_1ZiZ",
        "outputId": "73cb307b-9c1b-4f6e-cea2-a9b56cd9e1e2"
      },
      "execution_count": 2,
      "outputs": [
        {
          "output_type": "stream",
          "name": "stdout",
          "text": [
            "[[0 0 0]\n",
            " [0 0 0]\n",
            " [0 0 0]]\n",
            "(3, 3)\n"
          ]
        }
      ]
    },
    {
      "cell_type": "markdown",
      "source": [
        "3. Create a 3x3 identity matrix using NumPy."
      ],
      "metadata": {
        "id": "648DKgE31Zux"
      }
    },
    {
      "cell_type": "code",
      "source": [
        "arr =np.array([[1,0,0],[0,1,0],[0,0,1]])\n",
        "print(arr)\n",
        "print(arr.shape)"
      ],
      "metadata": {
        "colab": {
          "base_uri": "https://localhost:8080/"
        },
        "id": "lo91ZNmz1Z9C",
        "outputId": "25c8ad89-601f-44ef-b1b7-bacbcfb30189"
      },
      "execution_count": 3,
      "outputs": [
        {
          "output_type": "stream",
          "name": "stdout",
          "text": [
            "[[1 0 0]\n",
            " [0 1 0]\n",
            " [0 0 1]]\n",
            "(3, 3)\n"
          ]
        }
      ]
    },
    {
      "cell_type": "markdown",
      "source": [
        "4. Create a 1D NumPy array with five elements, all initialized to 10."
      ],
      "metadata": {
        "id": "5gGFeIGy1aJB"
      }
    },
    {
      "cell_type": "code",
      "source": [
        "arr =np.array([10,10,10,10,10])\n",
        "print(arr)\n",
        "print(arr.shape)"
      ],
      "metadata": {
        "id": "UP4xW6xi1aTA"
      },
      "execution_count": null,
      "outputs": []
    },
    {
      "cell_type": "markdown",
      "source": [
        "5. Generate a random 2x3 array of floats between 0 and 1."
      ],
      "metadata": {
        "id": "mZy6aOSE1afC"
      }
    },
    {
      "cell_type": "code",
      "source": [
        "arr = np.random.uniform(0,1,size=(2,3))\n",
        "print(arr)"
      ],
      "metadata": {
        "colab": {
          "base_uri": "https://localhost:8080/"
        },
        "id": "O4l4VtNE1aqx",
        "outputId": "e1d2ad0d-7e89-4e44-b271-f9d1b3e8890b"
      },
      "execution_count": 19,
      "outputs": [
        {
          "output_type": "stream",
          "name": "stdout",
          "text": [
            "[[0.75479551 0.70357677 0.49321925]\n",
            " [0.44070534 0.21884555 0.86980462]]\n"
          ]
        }
      ]
    },
    {
      "cell_type": "markdown",
      "source": [
        "6. Reshape the array from question 5 into a 3x2 array."
      ],
      "metadata": {
        "id": "0fTT88611a2J"
      }
    },
    {
      "cell_type": "code",
      "source": [
        "narr=arr.reshape(3, 2)\n",
        "print(narr)"
      ],
      "metadata": {
        "colab": {
          "base_uri": "https://localhost:8080/"
        },
        "id": "Av2CNNAL1bBS",
        "outputId": "1d2dad7f-2582-4b4c-fd0c-e7583376e0fc"
      },
      "execution_count": 22,
      "outputs": [
        {
          "output_type": "stream",
          "name": "stdout",
          "text": [
            "[[0.75479551 0.70357677]\n",
            " [0.49321925 0.44070534]\n",
            " [0.21884555 0.86980462]]\n"
          ]
        }
      ]
    },
    {
      "cell_type": "markdown",
      "source": [
        "7. Find the maximum value in an array of integers from 1 to 10."
      ],
      "metadata": {
        "id": "NJf9jjGc867Z"
      }
    },
    {
      "cell_type": "code",
      "source": [
        "arr =np.array([1,2,3,4,5,6,7,8,9,10])\n",
        "print(max(arr))"
      ],
      "metadata": {
        "colab": {
          "base_uri": "https://localhost:8080/"
        },
        "id": "TcL8_lBz87FX",
        "outputId": "00c9998c-8cc6-46c0-8da0-25c23e9c6527"
      },
      "execution_count": 32,
      "outputs": [
        {
          "output_type": "stream",
          "name": "stdout",
          "text": [
            "10\n"
          ]
        }
      ]
    },
    {
      "cell_type": "markdown",
      "source": [
        "8. Find the mean of a 1D array of numbers from 1 to 5."
      ],
      "metadata": {
        "id": "1Sjir34F87T4"
      }
    },
    {
      "cell_type": "code",
      "source": [
        "arr =np.array([1,2,3,4,5])\n",
        "print(np.mean(arr))"
      ],
      "metadata": {
        "colab": {
          "base_uri": "https://localhost:8080/"
        },
        "id": "RJC6KP8j87eP",
        "outputId": "9a00d81e-8cb9-496e-9b6a-62173c777673"
      },
      "execution_count": 33,
      "outputs": [
        {
          "output_type": "stream",
          "name": "stdout",
          "text": [
            "3.0\n"
          ]
        }
      ]
    },
    {
      "cell_type": "markdown",
      "source": [
        "9. Perform element-wise addition of two NumPy arrays of the same shape."
      ],
      "metadata": {
        "id": "1QpBq62V-CtO"
      }
    },
    {
      "cell_type": "code",
      "source": [
        "arr =np.array([1,3,5,7,4])\n",
        "narr =np.array([3,56,3,3,2])\n",
        "print(arr+narr)"
      ],
      "metadata": {
        "colab": {
          "base_uri": "https://localhost:8080/"
        },
        "id": "9tABy_lz-C13",
        "outputId": "281982db-57ca-46f6-ef4d-8db3fd391f62"
      },
      "execution_count": 34,
      "outputs": [
        {
          "output_type": "stream",
          "name": "stdout",
          "text": [
            "[ 4 59  8 10  6]\n"
          ]
        }
      ]
    },
    {
      "cell_type": "markdown",
      "source": [
        "10. Compute the dot product of two 1D arrays of the same length."
      ],
      "metadata": {
        "id": "pOwbHAkw-N9e"
      }
    },
    {
      "cell_type": "code",
      "source": [
        "arr =np.array([1,-1])\n",
        "narr =np.array([1,1])\n",
        "print(sum(arr*narr))"
      ],
      "metadata": {
        "colab": {
          "base_uri": "https://localhost:8080/"
        },
        "id": "uA0pK2ERAbyw",
        "outputId": "ef7f0018-47bb-4017-96a9-9a074d34b1dd"
      },
      "execution_count": 38,
      "outputs": [
        {
          "output_type": "stream",
          "name": "stdout",
          "text": [
            "0\n"
          ]
        }
      ]
    },
    {
      "cell_type": "markdown",
      "source": [
        "11. Reshape a 1D array of integers from 1 to 12 into a 3x4 matrix."
      ],
      "metadata": {
        "id": "T-aeZbftA0_m"
      }
    },
    {
      "cell_type": "code",
      "source": [
        "arr =np.array([1,2,3,4,5,6,7,8,9,10,11,12])\n",
        "narr = arr.reshape(3,4);\n",
        "print(narr)"
      ],
      "metadata": {
        "colab": {
          "base_uri": "https://localhost:8080/"
        },
        "id": "56cMf9cdA1H1",
        "outputId": "2a2cb18d-5a40-4ccd-fadd-dc1bf13b539b"
      },
      "execution_count": 39,
      "outputs": [
        {
          "output_type": "stream",
          "name": "stdout",
          "text": [
            "[[ 1  2  3  4]\n",
            " [ 5  6  7  8]\n",
            " [ 9 10 11 12]]\n"
          ]
        }
      ]
    },
    {
      "cell_type": "markdown",
      "source": [
        "12. Flatten a 2D array of shape (2, 3) into a 1D array."
      ],
      "metadata": {
        "id": "LEhP2PtJBRsF"
      }
    },
    {
      "cell_type": "code",
      "source": [
        "arr =np.array([[1,2,3,4,5,6],[7,8,9,10,11,12]])\n",
        "newarr = arr.reshape(-1)\n",
        "print(newarr)"
      ],
      "metadata": {
        "colab": {
          "base_uri": "https://localhost:8080/"
        },
        "id": "Az7_gkYvBSC9",
        "outputId": "7a69d017-f570-4870-f6d6-c960ffe475b1"
      },
      "execution_count": 40,
      "outputs": [
        {
          "output_type": "stream",
          "name": "stdout",
          "text": [
            "[ 1  2  3  4  5  6  7  8  9 10 11 12]\n"
          ]
        }
      ]
    },
    {
      "cell_type": "markdown",
      "source": [
        "13.Convert a 1D array of 9 elements into a 3x3 square matrix."
      ],
      "metadata": {
        "id": "srYZnI3JBqQn"
      }
    },
    {
      "cell_type": "code",
      "source": [
        "arr =np.array([1,2,3,4,5,6,7,8,9])\n",
        "narr = arr.reshape(3,3);\n",
        "print(narr)"
      ],
      "metadata": {
        "colab": {
          "base_uri": "https://localhost:8080/"
        },
        "id": "QIgI7KHdBqc9",
        "outputId": "2094c835-98fe-44ea-a0c3-7a18535f898c"
      },
      "execution_count": 41,
      "outputs": [
        {
          "output_type": "stream",
          "name": "stdout",
          "text": [
            "[[1 2 3]\n",
            " [4 5 6]\n",
            " [7 8 9]]\n"
          ]
        }
      ]
    },
    {
      "cell_type": "markdown",
      "source": [
        "14.Reshape a 1D array of 20 elements into a 4x5 matrix."
      ],
      "metadata": {
        "id": "jdE491xeB993"
      }
    },
    {
      "cell_type": "code",
      "source": [
        "arr =np.array([1,2,3,4,5,6,7,8,9,10,11,12,13,14,15,16,17,18,19,20])\n",
        "narr = arr.reshape(4,5);\n",
        "print(narr)"
      ],
      "metadata": {
        "colab": {
          "base_uri": "https://localhost:8080/"
        },
        "id": "9F5nfqUyB-Il",
        "outputId": "809cd9c7-4d81-4934-ec74-db39103f7e61"
      },
      "execution_count": 43,
      "outputs": [
        {
          "output_type": "stream",
          "name": "stdout",
          "text": [
            "[[ 1  2  3  4  5]\n",
            " [ 6  7  8  9 10]\n",
            " [11 12 13 14 15]\n",
            " [16 17 18 19 20]]\n"
          ]
        }
      ]
    },
    {
      "cell_type": "markdown",
      "source": [
        "15.Transform a 2D array of shape (3, 2) into a 1D array of shape (6,).\n"
      ],
      "metadata": {
        "id": "ozpOzdDyCW0l"
      }
    },
    {
      "cell_type": "code",
      "source": [
        "arr =np.array([[1,2,3],[4,5,6]])\n",
        "narr = arr.reshape(6,)\n",
        "print(narr)"
      ],
      "metadata": {
        "colab": {
          "base_uri": "https://localhost:8080/"
        },
        "id": "CNyi0QgPCXkl",
        "outputId": "47e3dc6f-de39-47c4-b09d-44cbfc6e9ebf"
      },
      "execution_count": 45,
      "outputs": [
        {
          "output_type": "stream",
          "name": "stdout",
          "text": [
            "[1 2 3 4 5 6]\n"
          ]
        }
      ]
    }
  ]
}